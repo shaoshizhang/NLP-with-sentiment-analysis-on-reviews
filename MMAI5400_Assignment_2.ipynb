{
  "nbformat": 4,
  "nbformat_minor": 0,
  "metadata": {
    "colab": {
      "name": "MMAI5400 Assignment #2 ",
      "provenance": []
    },
    "kernelspec": {
      "name": "python3",
      "display_name": "Python 3"
    },
    "language_info": {
      "name": "python"
    }
  },
  "cells": [
    {
      "cell_type": "code",
      "metadata": {
        "id": "BetR7hr36Fku",
        "colab": {
          "base_uri": "https://localhost:8080/"
        },
        "outputId": "0c0cf4d6-6d22-49b7-f44c-237d15cc93a8"
      },
      "source": [
        "!pip install -U sklearn"
      ],
      "execution_count": 43,
      "outputs": [
        {
          "output_type": "stream",
          "text": [
            "Requirement already up-to-date: sklearn in /usr/local/lib/python3.7/dist-packages (0.0)\n",
            "Requirement already satisfied, skipping upgrade: scikit-learn in /usr/local/lib/python3.7/dist-packages (from sklearn) (0.22.2.post1)\n",
            "Requirement already satisfied, skipping upgrade: joblib>=0.11 in /usr/local/lib/python3.7/dist-packages (from scikit-learn->sklearn) (1.0.1)\n",
            "Requirement already satisfied, skipping upgrade: numpy>=1.11.0 in /usr/local/lib/python3.7/dist-packages (from scikit-learn->sklearn) (1.19.5)\n",
            "Requirement already satisfied, skipping upgrade: scipy>=0.17.0 in /usr/local/lib/python3.7/dist-packages (from scikit-learn->sklearn) (1.4.1)\n"
          ],
          "name": "stdout"
        }
      ]
    },
    {
      "cell_type": "code",
      "metadata": {
        "id": "-6K3fiFi1SRJ"
      },
      "source": [
        "import pandas as pd\n",
        "import numpy as np\n",
        "import csv\n",
        "\n",
        "from sklearn.utils import resample\n",
        "from sklearn.model_selection import train_test_split\n",
        "\n",
        "data = pd.read_csv('reviews.csv', delimiter='\\t')"
      ],
      "execution_count": 44,
      "outputs": []
    },
    {
      "cell_type": "code",
      "metadata": {
        "colab": {
          "base_uri": "https://localhost:8080/",
          "height": 204
        },
        "id": "RRbHk3v125VP",
        "outputId": "8cb4eb21-eb3d-4145-8604-33707defa5e5"
      },
      "source": [
        "data.head()"
      ],
      "execution_count": 45,
      "outputs": [
        {
          "output_type": "execute_result",
          "data": {
            "text/html": [
              "<div>\n",
              "<style scoped>\n",
              "    .dataframe tbody tr th:only-of-type {\n",
              "        vertical-align: middle;\n",
              "    }\n",
              "\n",
              "    .dataframe tbody tr th {\n",
              "        vertical-align: top;\n",
              "    }\n",
              "\n",
              "    .dataframe thead th {\n",
              "        text-align: right;\n",
              "    }\n",
              "</style>\n",
              "<table border=\"1\" class=\"dataframe\">\n",
              "  <thead>\n",
              "    <tr style=\"text-align: right;\">\n",
              "      <th></th>\n",
              "      <th>Skype</th>\n",
              "      <th>3</th>\n",
              "      <th>2021-01-12T17:06:39+00:00</th>\n",
              "      <th>It shows my credit in Danish Corona but I live in Finland. I don´t see how to change currency.</th>\n",
              "    </tr>\n",
              "  </thead>\n",
              "  <tbody>\n",
              "    <tr>\n",
              "      <th>0</th>\n",
              "      <td>Skype</td>\n",
              "      <td>1</td>\n",
              "      <td>2021-01-10T16:58:00+00:00</td>\n",
              "      <td>Disgusting. Skype effectively operated as a sc...</td>\n",
              "    </tr>\n",
              "    <tr>\n",
              "      <th>1</th>\n",
              "      <td>Skype</td>\n",
              "      <td>3</td>\n",
              "      <td>2020-12-28T11:57:59+00:00</td>\n",
              "      <td>Outdated.\\n\\n Simply an outdated platform, it ...</td>\n",
              "    </tr>\n",
              "    <tr>\n",
              "      <th>2</th>\n",
              "      <td>Skype</td>\n",
              "      <td>1</td>\n",
              "      <td>2020-12-27T14:29:41+00:00</td>\n",
              "      <td>When Skype came out I thought it was a great a...</td>\n",
              "    </tr>\n",
              "    <tr>\n",
              "      <th>3</th>\n",
              "      <td>Skype</td>\n",
              "      <td>5</td>\n",
              "      <td>2020-12-20T21:05:07+00:00</td>\n",
              "      <td>My favorite app for business calls.</td>\n",
              "    </tr>\n",
              "    <tr>\n",
              "      <th>4</th>\n",
              "      <td>Skype</td>\n",
              "      <td>4</td>\n",
              "      <td>2020-12-18T21:49:13+00:00</td>\n",
              "      <td>I use Skype everyday for work, and I must admi...</td>\n",
              "    </tr>\n",
              "  </tbody>\n",
              "</table>\n",
              "</div>"
            ],
            "text/plain": [
              "   Skype  ...  It shows my credit in Danish Corona but I live in Finland. I don´t see how to change currency.\n",
              "0  Skype  ...  Disgusting. Skype effectively operated as a sc...                                             \n",
              "1  Skype  ...  Outdated.\\n\\n Simply an outdated platform, it ...                                             \n",
              "2  Skype  ...  When Skype came out I thought it was a great a...                                             \n",
              "3  Skype  ...                My favorite app for business calls.                                             \n",
              "4  Skype  ...  I use Skype everyday for work, and I must admi...                                             \n",
              "\n",
              "[5 rows x 4 columns]"
            ]
          },
          "metadata": {
            "tags": []
          },
          "execution_count": 45
        }
      ]
    },
    {
      "cell_type": "code",
      "metadata": {
        "id": "qA31Yby83DEe"
      },
      "source": [
        "data.columns = ['company', 'rating', 'date', 'review']"
      ],
      "execution_count": 46,
      "outputs": []
    },
    {
      "cell_type": "code",
      "metadata": {
        "colab": {
          "base_uri": "https://localhost:8080/"
        },
        "id": "1tW2_98w6sOS",
        "outputId": "d7a8e252-bd7d-426d-99c6-b9f3872d5cb9"
      },
      "source": [
        "data['Sentiment'] = np.zeros(data.shape[0])\n",
        "for i in range(data.shape[0]):\n",
        "  if data.rating[i] <=2:\n",
        "    data['Sentiment'][i] = 0;\n",
        "  elif data.rating[i] == 3:\n",
        "    data['Sentiment'][i] = 1;\n",
        "  else:\n",
        "    data['Sentiment'][i] = 2\n",
        "data['Sentiment'] = data['Sentiment'].astype(int)"
      ],
      "execution_count": 47,
      "outputs": [
        {
          "output_type": "stream",
          "text": [
            "/usr/local/lib/python3.7/dist-packages/ipykernel_launcher.py:4: SettingWithCopyWarning: \n",
            "A value is trying to be set on a copy of a slice from a DataFrame\n",
            "\n",
            "See the caveats in the documentation: https://pandas.pydata.org/pandas-docs/stable/user_guide/indexing.html#returning-a-view-versus-a-copy\n",
            "  after removing the cwd from sys.path.\n",
            "/usr/local/lib/python3.7/dist-packages/ipykernel_launcher.py:6: SettingWithCopyWarning: \n",
            "A value is trying to be set on a copy of a slice from a DataFrame\n",
            "\n",
            "See the caveats in the documentation: https://pandas.pydata.org/pandas-docs/stable/user_guide/indexing.html#returning-a-view-versus-a-copy\n",
            "  \n",
            "/usr/local/lib/python3.7/dist-packages/ipykernel_launcher.py:8: SettingWithCopyWarning: \n",
            "A value is trying to be set on a copy of a slice from a DataFrame\n",
            "\n",
            "See the caveats in the documentation: https://pandas.pydata.org/pandas-docs/stable/user_guide/indexing.html#returning-a-view-versus-a-copy\n",
            "  \n"
          ],
          "name": "stderr"
        }
      ]
    },
    {
      "cell_type": "code",
      "metadata": {
        "colab": {
          "base_uri": "https://localhost:8080/"
        },
        "id": "e3Yf6lO13IgW",
        "outputId": "f1b3b42b-5335-488c-9ecc-2dfc370bb54f"
      },
      "source": [
        "data.dtypes"
      ],
      "execution_count": 48,
      "outputs": [
        {
          "output_type": "execute_result",
          "data": {
            "text/plain": [
              "company      object\n",
              "rating        int64\n",
              "date         object\n",
              "review       object\n",
              "Sentiment     int64\n",
              "dtype: object"
            ]
          },
          "metadata": {
            "tags": []
          },
          "execution_count": 48
        }
      ]
    },
    {
      "cell_type": "code",
      "metadata": {
        "colab": {
          "base_uri": "https://localhost:8080/",
          "height": 173
        },
        "id": "cGvMnZwk4uJx",
        "outputId": "337f6f3f-0992-4874-89e9-3a090bf674f0"
      },
      "source": [
        "data.groupby('Sentiment').count()"
      ],
      "execution_count": 49,
      "outputs": [
        {
          "output_type": "execute_result",
          "data": {
            "text/html": [
              "<div>\n",
              "<style scoped>\n",
              "    .dataframe tbody tr th:only-of-type {\n",
              "        vertical-align: middle;\n",
              "    }\n",
              "\n",
              "    .dataframe tbody tr th {\n",
              "        vertical-align: top;\n",
              "    }\n",
              "\n",
              "    .dataframe thead th {\n",
              "        text-align: right;\n",
              "    }\n",
              "</style>\n",
              "<table border=\"1\" class=\"dataframe\">\n",
              "  <thead>\n",
              "    <tr style=\"text-align: right;\">\n",
              "      <th></th>\n",
              "      <th>company</th>\n",
              "      <th>rating</th>\n",
              "      <th>date</th>\n",
              "      <th>review</th>\n",
              "    </tr>\n",
              "    <tr>\n",
              "      <th>Sentiment</th>\n",
              "      <th></th>\n",
              "      <th></th>\n",
              "      <th></th>\n",
              "      <th></th>\n",
              "    </tr>\n",
              "  </thead>\n",
              "  <tbody>\n",
              "    <tr>\n",
              "      <th>0</th>\n",
              "      <td>832</td>\n",
              "      <td>832</td>\n",
              "      <td>832</td>\n",
              "      <td>832</td>\n",
              "    </tr>\n",
              "    <tr>\n",
              "      <th>1</th>\n",
              "      <td>72</td>\n",
              "      <td>72</td>\n",
              "      <td>72</td>\n",
              "      <td>72</td>\n",
              "    </tr>\n",
              "    <tr>\n",
              "      <th>2</th>\n",
              "      <td>387</td>\n",
              "      <td>387</td>\n",
              "      <td>387</td>\n",
              "      <td>387</td>\n",
              "    </tr>\n",
              "  </tbody>\n",
              "</table>\n",
              "</div>"
            ],
            "text/plain": [
              "           company  rating  date  review\n",
              "Sentiment                               \n",
              "0              832     832   832     832\n",
              "1               72      72    72      72\n",
              "2              387     387   387     387"
            ]
          },
          "metadata": {
            "tags": []
          },
          "execution_count": 49
        }
      ]
    },
    {
      "cell_type": "code",
      "metadata": {
        "colab": {
          "base_uri": "https://localhost:8080/",
          "height": 204
        },
        "id": "RYuUiWigrzfE",
        "outputId": "ad96a684-5cef-456f-f32f-3e8e82b75a06"
      },
      "source": [
        "data.head()"
      ],
      "execution_count": 50,
      "outputs": [
        {
          "output_type": "execute_result",
          "data": {
            "text/html": [
              "<div>\n",
              "<style scoped>\n",
              "    .dataframe tbody tr th:only-of-type {\n",
              "        vertical-align: middle;\n",
              "    }\n",
              "\n",
              "    .dataframe tbody tr th {\n",
              "        vertical-align: top;\n",
              "    }\n",
              "\n",
              "    .dataframe thead th {\n",
              "        text-align: right;\n",
              "    }\n",
              "</style>\n",
              "<table border=\"1\" class=\"dataframe\">\n",
              "  <thead>\n",
              "    <tr style=\"text-align: right;\">\n",
              "      <th></th>\n",
              "      <th>company</th>\n",
              "      <th>rating</th>\n",
              "      <th>date</th>\n",
              "      <th>review</th>\n",
              "      <th>Sentiment</th>\n",
              "    </tr>\n",
              "  </thead>\n",
              "  <tbody>\n",
              "    <tr>\n",
              "      <th>0</th>\n",
              "      <td>Skype</td>\n",
              "      <td>1</td>\n",
              "      <td>2021-01-10T16:58:00+00:00</td>\n",
              "      <td>Disgusting. Skype effectively operated as a sc...</td>\n",
              "      <td>0</td>\n",
              "    </tr>\n",
              "    <tr>\n",
              "      <th>1</th>\n",
              "      <td>Skype</td>\n",
              "      <td>3</td>\n",
              "      <td>2020-12-28T11:57:59+00:00</td>\n",
              "      <td>Outdated.\\n\\n Simply an outdated platform, it ...</td>\n",
              "      <td>1</td>\n",
              "    </tr>\n",
              "    <tr>\n",
              "      <th>2</th>\n",
              "      <td>Skype</td>\n",
              "      <td>1</td>\n",
              "      <td>2020-12-27T14:29:41+00:00</td>\n",
              "      <td>When Skype came out I thought it was a great a...</td>\n",
              "      <td>0</td>\n",
              "    </tr>\n",
              "    <tr>\n",
              "      <th>3</th>\n",
              "      <td>Skype</td>\n",
              "      <td>5</td>\n",
              "      <td>2020-12-20T21:05:07+00:00</td>\n",
              "      <td>My favorite app for business calls.</td>\n",
              "      <td>2</td>\n",
              "    </tr>\n",
              "    <tr>\n",
              "      <th>4</th>\n",
              "      <td>Skype</td>\n",
              "      <td>4</td>\n",
              "      <td>2020-12-18T21:49:13+00:00</td>\n",
              "      <td>I use Skype everyday for work, and I must admi...</td>\n",
              "      <td>2</td>\n",
              "    </tr>\n",
              "  </tbody>\n",
              "</table>\n",
              "</div>"
            ],
            "text/plain": [
              "  company  rating  ...                                             review Sentiment\n",
              "0   Skype       1  ...  Disgusting. Skype effectively operated as a sc...         0\n",
              "1   Skype       3  ...  Outdated.\\n\\n Simply an outdated platform, it ...         1\n",
              "2   Skype       1  ...  When Skype came out I thought it was a great a...         0\n",
              "3   Skype       5  ...                My favorite app for business calls.         2\n",
              "4   Skype       4  ...  I use Skype everyday for work, and I must admi...         2\n",
              "\n",
              "[5 rows x 5 columns]"
            ]
          },
          "metadata": {
            "tags": []
          },
          "execution_count": 50
        }
      ]
    },
    {
      "cell_type": "code",
      "metadata": {
        "id": "AiDA_BOs5T6B"
      },
      "source": [
        "# drop extra reviews to gain a balance dataset\n",
        "# separate dataset by sentiment and down sample extra reviews\n",
        "df_0 = data[data['Sentiment'] ==0]\n",
        "df_1 = data[data['Sentiment'] ==1]\n",
        "df_2 = data[data['Sentiment'] ==2]\n",
        "\n",
        "df_0_down = resample(df_0, replace = False, n_samples = len(df_1), random_state = 0)\n",
        "df_2_down = resample(df_2, replace = False, n_samples = len(df_1), random_state = 1)\n",
        "\n",
        "data_down = pd.concat([df_0_down, df_1, df_2_down])\n",
        "data_down = data_down.drop(columns=['company', 'rating', 'date'])"
      ],
      "execution_count": 51,
      "outputs": []
    },
    {
      "cell_type": "code",
      "metadata": {
        "colab": {
          "base_uri": "https://localhost:8080/",
          "height": 359
        },
        "id": "qND0sClftTsr",
        "outputId": "86588812-aa84-4bcb-cb16-51a1f5710bcb"
      },
      "source": [
        "data_down.sample(10)"
      ],
      "execution_count": 52,
      "outputs": [
        {
          "output_type": "execute_result",
          "data": {
            "text/html": [
              "<div>\n",
              "<style scoped>\n",
              "    .dataframe tbody tr th:only-of-type {\n",
              "        vertical-align: middle;\n",
              "    }\n",
              "\n",
              "    .dataframe tbody tr th {\n",
              "        vertical-align: top;\n",
              "    }\n",
              "\n",
              "    .dataframe thead th {\n",
              "        text-align: right;\n",
              "    }\n",
              "</style>\n",
              "<table border=\"1\" class=\"dataframe\">\n",
              "  <thead>\n",
              "    <tr style=\"text-align: right;\">\n",
              "      <th></th>\n",
              "      <th>review</th>\n",
              "      <th>Sentiment</th>\n",
              "    </tr>\n",
              "  </thead>\n",
              "  <tbody>\n",
              "    <tr>\n",
              "      <th>1193</th>\n",
              "      <td>Outdated.\\n\\n Simply an outdated platform, it ...</td>\n",
              "      <td>1</td>\n",
              "    </tr>\n",
              "    <tr>\n",
              "      <th>923</th>\n",
              "      <td>The sound quality is quite bad, impossible to ...</td>\n",
              "      <td>0</td>\n",
              "    </tr>\n",
              "    <tr>\n",
              "      <th>811</th>\n",
              "      <td>So far nothing beats SKYPE.</td>\n",
              "      <td>2</td>\n",
              "    </tr>\n",
              "    <tr>\n",
              "      <th>822</th>\n",
              "      <td>Traveling abroad was always a challenge when i...</td>\n",
              "      <td>2</td>\n",
              "    </tr>\n",
              "    <tr>\n",
              "      <th>1019</th>\n",
              "      <td>I long for the days when Skype had a simple us...</td>\n",
              "      <td>1</td>\n",
              "    </tr>\n",
              "    <tr>\n",
              "      <th>33</th>\n",
              "      <td>The app itself is very good, but the service c...</td>\n",
              "      <td>2</td>\n",
              "    </tr>\n",
              "    <tr>\n",
              "      <th>980</th>\n",
              "      <td>We used to phone the USA and had a deal with B...</td>\n",
              "      <td>2</td>\n",
              "    </tr>\n",
              "    <tr>\n",
              "      <th>546</th>\n",
              "      <td>What absolute junk the new Skype is for Mac.\\n...</td>\n",
              "      <td>0</td>\n",
              "    </tr>\n",
              "    <tr>\n",
              "      <th>1047</th>\n",
              "      <td>there is better message systems than this.. wr...</td>\n",
              "      <td>1</td>\n",
              "    </tr>\n",
              "    <tr>\n",
              "      <th>1093</th>\n",
              "      <td>Outdated.\\n\\n Simply an outdated platform, it ...</td>\n",
              "      <td>1</td>\n",
              "    </tr>\n",
              "  </tbody>\n",
              "</table>\n",
              "</div>"
            ],
            "text/plain": [
              "                                                 review  Sentiment\n",
              "1193  Outdated.\\n\\n Simply an outdated platform, it ...          1\n",
              "923   The sound quality is quite bad, impossible to ...          0\n",
              "811                         So far nothing beats SKYPE.          2\n",
              "822   Traveling abroad was always a challenge when i...          2\n",
              "1019  I long for the days when Skype had a simple us...          1\n",
              "33    The app itself is very good, but the service c...          2\n",
              "980   We used to phone the USA and had a deal with B...          2\n",
              "546   What absolute junk the new Skype is for Mac.\\n...          0\n",
              "1047  there is better message systems than this.. wr...          1\n",
              "1093  Outdated.\\n\\n Simply an outdated platform, it ...          1"
            ]
          },
          "metadata": {
            "tags": []
          },
          "execution_count": 52
        }
      ]
    },
    {
      "cell_type": "code",
      "metadata": {
        "colab": {
          "base_uri": "https://localhost:8080/",
          "height": 173
        },
        "id": "9E9ZWIb9tlXp",
        "outputId": "659d8ca0-9358-4631-f649-835b3f4249a7"
      },
      "source": [
        "data_down.groupby('Sentiment').count()"
      ],
      "execution_count": 53,
      "outputs": [
        {
          "output_type": "execute_result",
          "data": {
            "text/html": [
              "<div>\n",
              "<style scoped>\n",
              "    .dataframe tbody tr th:only-of-type {\n",
              "        vertical-align: middle;\n",
              "    }\n",
              "\n",
              "    .dataframe tbody tr th {\n",
              "        vertical-align: top;\n",
              "    }\n",
              "\n",
              "    .dataframe thead th {\n",
              "        text-align: right;\n",
              "    }\n",
              "</style>\n",
              "<table border=\"1\" class=\"dataframe\">\n",
              "  <thead>\n",
              "    <tr style=\"text-align: right;\">\n",
              "      <th></th>\n",
              "      <th>review</th>\n",
              "    </tr>\n",
              "    <tr>\n",
              "      <th>Sentiment</th>\n",
              "      <th></th>\n",
              "    </tr>\n",
              "  </thead>\n",
              "  <tbody>\n",
              "    <tr>\n",
              "      <th>0</th>\n",
              "      <td>72</td>\n",
              "    </tr>\n",
              "    <tr>\n",
              "      <th>1</th>\n",
              "      <td>72</td>\n",
              "    </tr>\n",
              "    <tr>\n",
              "      <th>2</th>\n",
              "      <td>72</td>\n",
              "    </tr>\n",
              "  </tbody>\n",
              "</table>\n",
              "</div>"
            ],
            "text/plain": [
              "           review\n",
              "Sentiment        \n",
              "0              72\n",
              "1              72\n",
              "2              72"
            ]
          },
          "metadata": {
            "tags": []
          },
          "execution_count": 53
        }
      ]
    },
    {
      "cell_type": "code",
      "metadata": {
        "id": "Qe26QRtztusJ"
      },
      "source": [
        "train, valid = train_test_split(data_down, test_size=0.33, shuffle=True, random_state=111)\n",
        "train.to_csv('train.csv',index=False)\n",
        "valid.to_csv('valid.csv',index=False)"
      ],
      "execution_count": 54,
      "outputs": []
    },
    {
      "cell_type": "code",
      "metadata": {
        "id": "og7VU2B-5vut"
      },
      "source": [
        "train = pd.read_csv('train.csv')\n",
        "valid = pd.read_csv('valid.csv')"
      ],
      "execution_count": 55,
      "outputs": []
    },
    {
      "cell_type": "code",
      "metadata": {
        "colab": {
          "base_uri": "https://localhost:8080/"
        },
        "id": "h88GHt8k62uI",
        "outputId": "da3370b0-072d-4c6b-d9b6-e77deadf5419"
      },
      "source": [
        "print(\"\\n\".join(train['review'][0].split(\"\\n\")))"
      ],
      "execution_count": 56,
      "outputs": [
        {
          "output_type": "stream",
          "text": [
            "I Chose Skype because I can communicate with distant relatives\n"
          ],
          "name": "stdout"
        }
      ]
    },
    {
      "cell_type": "code",
      "metadata": {
        "colab": {
          "base_uri": "https://localhost:8080/"
        },
        "id": "lO_p8tnC7epw",
        "outputId": "3fa51a72-6c37-4e9a-b481-8a5a202c98e6"
      },
      "source": [
        "from sklearn.feature_extraction.text import CountVectorizer\n",
        "count_vect = CountVectorizer()\n",
        "X_train_counts = count_vect.fit_transform(train['review'])\n",
        "X_train_counts.shape"
      ],
      "execution_count": 57,
      "outputs": [
        {
          "output_type": "execute_result",
          "data": {
            "text/plain": [
              "(144, 1453)"
            ]
          },
          "metadata": {
            "tags": []
          },
          "execution_count": 57
        }
      ]
    },
    {
      "cell_type": "code",
      "metadata": {
        "colab": {
          "base_uri": "https://localhost:8080/"
        },
        "id": "to7xS7if9j_A",
        "outputId": "95f8c206-0d65-4a0f-a13a-72ebf5cfa591"
      },
      "source": [
        "from sklearn.feature_extraction.text import TfidfTransformer\n",
        "tfidf_transformer = TfidfTransformer()\n",
        "X_train_tfidf = tfidf_transformer.fit_transform(X_train_counts)\n",
        "X_train_tfidf.shape"
      ],
      "execution_count": 58,
      "outputs": [
        {
          "output_type": "execute_result",
          "data": {
            "text/plain": [
              "(144, 1453)"
            ]
          },
          "metadata": {
            "tags": []
          },
          "execution_count": 58
        }
      ]
    },
    {
      "cell_type": "code",
      "metadata": {
        "id": "w1ChvDCl9650"
      },
      "source": [
        "from sklearn.naive_bayes import MultinomialNB\n",
        "clf = MultinomialNB().fit(X_train_tfidf, train['Sentiment'])"
      ],
      "execution_count": 59,
      "outputs": []
    },
    {
      "cell_type": "code",
      "metadata": {
        "colab": {
          "base_uri": "https://localhost:8080/"
        },
        "id": "qIykNTQE-CDA",
        "outputId": "72a1357f-2560-491c-abcb-46197a9daf8c"
      },
      "source": [
        "docs_new = ['I love it', 'Worst forever']\n",
        "X_new_counts = count_vect.transform(docs_new)\n",
        "X_new_tfidf = tfidf_transformer.transform(X_new_counts)\n",
        "\n",
        "predicted = clf.predict(X_new_tfidf)\n",
        "\n",
        "for doc, category in zip(docs_new, predicted):\n",
        "    print('%r => %s' % (doc, category))"
      ],
      "execution_count": 60,
      "outputs": [
        {
          "output_type": "stream",
          "text": [
            "'I love it' => 2\n",
            "'Worst forever' => 0\n"
          ],
          "name": "stdout"
        }
      ]
    },
    {
      "cell_type": "code",
      "metadata": {
        "id": "XDeICA1d-5q4"
      },
      "source": [
        "from sklearn.pipeline import Pipeline\n",
        "text_clf_MNB = Pipeline([\n",
        "    ('vect', CountVectorizer()),\n",
        "    ('tfidf', TfidfTransformer()),\n",
        "    ('clf', MultinomialNB()),\n",
        "])"
      ],
      "execution_count": 61,
      "outputs": []
    },
    {
      "cell_type": "code",
      "metadata": {
        "colab": {
          "base_uri": "https://localhost:8080/"
        },
        "id": "deRGncob_fxI",
        "outputId": "9eabea15-7ddd-4ef9-a821-44454b751274"
      },
      "source": [
        "text_clf_MNB.fit(train['review'], train['Sentiment'])"
      ],
      "execution_count": 62,
      "outputs": [
        {
          "output_type": "execute_result",
          "data": {
            "text/plain": [
              "Pipeline(memory=None,\n",
              "         steps=[('vect',\n",
              "                 CountVectorizer(analyzer='word', binary=False,\n",
              "                                 decode_error='strict',\n",
              "                                 dtype=<class 'numpy.int64'>, encoding='utf-8',\n",
              "                                 input='content', lowercase=True, max_df=1.0,\n",
              "                                 max_features=None, min_df=1,\n",
              "                                 ngram_range=(1, 1), preprocessor=None,\n",
              "                                 stop_words=None, strip_accents=None,\n",
              "                                 token_pattern='(?u)\\\\b\\\\w\\\\w+\\\\b',\n",
              "                                 tokenizer=None, vocabulary=None)),\n",
              "                ('tfidf',\n",
              "                 TfidfTransformer(norm='l2', smooth_idf=True,\n",
              "                                  sublinear_tf=False, use_idf=True)),\n",
              "                ('clf',\n",
              "                 MultinomialNB(alpha=1.0, class_prior=None, fit_prior=True))],\n",
              "         verbose=False)"
            ]
          },
          "metadata": {
            "tags": []
          },
          "execution_count": 62
        }
      ]
    },
    {
      "cell_type": "code",
      "metadata": {
        "colab": {
          "base_uri": "https://localhost:8080/"
        },
        "id": "KWKDlI7-_yqm",
        "outputId": "22a52ce9-66cb-452f-8708-679dc806d78a"
      },
      "source": [
        "docs_valid = valid['review']\n",
        "predicted = text_clf_MNB.predict(docs_valid)\n",
        "acc_MNB = np.mean(predicted == valid['Sentiment'])\n",
        "\n",
        "print('Accuracy score: ', acc_MNB)"
      ],
      "execution_count": 63,
      "outputs": [
        {
          "output_type": "stream",
          "text": [
            "Accuracy score:  0.7083333333333334\n"
          ],
          "name": "stdout"
        }
      ]
    },
    {
      "cell_type": "code",
      "metadata": {
        "colab": {
          "base_uri": "https://localhost:8080/"
        },
        "id": "bg2GCRRh_9h4",
        "outputId": "52cf1625-4664-4d3d-f392-85340438470d"
      },
      "source": [
        "from sklearn.linear_model import SGDClassifier\n",
        "text_clf_SGD = Pipeline([\n",
        "    ('vect', CountVectorizer()),\n",
        "    ('tfidf', TfidfTransformer()),\n",
        "    ('clf', SGDClassifier(loss='hinge', penalty='l2',\n",
        "                          alpha=1e-3, random_state=42,\n",
        "                          max_iter=20, tol=None)),\n",
        "])\n",
        "\n",
        "text_clf_SGD.fit(train['review'], train['Sentiment'])\n",
        "\n",
        "predicted = text_clf_SGD.predict(docs_valid)\n",
        "acc_SGD = np.mean(predicted == valid['Sentiment'])\n",
        "\n",
        "print('Accuracy score: ', acc_SGD)"
      ],
      "execution_count": 64,
      "outputs": [
        {
          "output_type": "stream",
          "text": [
            "Accuracy score:  0.7638888888888888\n"
          ],
          "name": "stdout"
        }
      ]
    },
    {
      "cell_type": "code",
      "metadata": {
        "colab": {
          "base_uri": "https://localhost:8080/"
        },
        "id": "6TmnBcV7AYNa",
        "outputId": "609f54d1-5b9a-47b4-a72a-2b2582023700"
      },
      "source": [
        "from sklearn import metrics\n",
        "print(metrics.classification_report(valid['Sentiment'], predicted))"
      ],
      "execution_count": 65,
      "outputs": [
        {
          "output_type": "stream",
          "text": [
            "              precision    recall  f1-score   support\n",
            "\n",
            "           0       0.84      0.75      0.79        28\n",
            "           1       0.62      0.68      0.65        22\n",
            "           2       0.83      0.86      0.84        22\n",
            "\n",
            "    accuracy                           0.76        72\n",
            "   macro avg       0.76      0.77      0.76        72\n",
            "weighted avg       0.77      0.76      0.77        72\n",
            "\n"
          ],
          "name": "stdout"
        }
      ]
    },
    {
      "cell_type": "code",
      "metadata": {
        "id": "s6e8OIL4UXVt"
      },
      "source": [
        "f1 = metrics.f1_score(valid['Sentiment'], predicted, average= None)\n",
        "cmtx = pd.DataFrame(\n",
        "    metrics.confusion_matrix(valid['Sentiment'], predicted), \n",
        "    index=['negative', 'neutral', 'positive'], \n",
        "    columns=['negative', 'neutral', 'positive'])\n"
      ],
      "execution_count": 75,
      "outputs": []
    },
    {
      "cell_type": "code",
      "metadata": {
        "colab": {
          "base_uri": "https://localhost:8080/"
        },
        "id": "qLSO9J_AW2UK",
        "outputId": "446e1c4a-25d2-4f32-bdb0-e4a51cf959bd"
      },
      "source": [
        "print('Accuracy score: ', acc_SGD, end='')\n",
        "print(\"\\n\")\n",
        "print('F1_score for negative rating: ', f1[0])\n",
        "print('F1_score for neutral rating: ', f1[1])\n",
        "print('F1_score for positive rating: ', f1[2])\n",
        "print(\"\\n\")\n",
        "print('confusion matrix: \\n',cmtx)"
      ],
      "execution_count": 91,
      "outputs": [
        {
          "output_type": "stream",
          "text": [
            "Accuracy score:  0.7638888888888888\n",
            "\n",
            "F1_score for negative rating:  0.7924528301886793\n",
            "F1_score for neutral rating:  0.6521739130434783\n",
            "F1_score for positive rating:  0.8444444444444444\n",
            "\n",
            "\n",
            "confusion matrix: \n",
            "           negative  neutral  positive\n",
            "negative        21        6         1\n",
            "neutral          4       15         3\n",
            "positive         0        3        19\n"
          ],
          "name": "stdout"
        }
      ]
    },
    {
      "cell_type": "code",
      "metadata": {
        "id": "XDlYS02fYvTE"
      },
      "source": [
        ""
      ],
      "execution_count": null,
      "outputs": []
    }
  ]
}